{
 "cells": [
  {
   "cell_type": "markdown",
   "metadata": {},
   "source": [
    "### 1. Import the essential libraries"
   ]
  },
  {
   "cell_type": "code",
   "execution_count": 22,
   "metadata": {},
   "outputs": [],
   "source": [
    "import os\n",
    "import sys\n",
    "import cv2\n",
    "import random\n",
    "import joblib\n",
    "import numpy as np\n",
    "import pandas as pd\n",
    "from matplotlib import pyplot as plt\n",
    "\n",
    "from sklearn.cluster import KMeans, MiniBatchKMeans\n",
    "from sklearn import metrics\n",
    "from scipy.spatial.distance import cdist\n",
    "\n",
    "from skimage.color import rgb2lab, lab2rgb\n",
    "from skimage.segmentation import slic\n",
    "from skimage.segmentation import mark_boundaries\n",
    "from skimage.util import img_as_float\n",
    "\n",
    "from tqdm import tqdm_notebook"
   ]
  },
  {
   "cell_type": "markdown",
   "metadata": {},
   "source": [
    "### 1.1 Define some helpful functions"
   ]
  },
  {
   "cell_type": "code",
   "execution_count": 23,
   "metadata": {},
   "outputs": [],
   "source": [
    "def describeImage(Xsub_rgb,labels=[\"R\",\"G\",\"B\"]):\n",
    "    print(\"______________________________\")\n",
    "    for i, lab in enumerate(labels):\n",
    "        mi = np.min(Xsub_rgb[:,:,i])\n",
    "        ma = np.max(Xsub_rgb[:,:,i])\n",
    "        print(\"{} : MIN={:8.4f}, MAX={:8.4f}\".format(lab,mi,ma))"
   ]
  },
  {
   "cell_type": "code",
   "execution_count": 24,
   "metadata": {},
   "outputs": [],
   "source": [
    "def extract_single_dim_from_LAB_convert_to_RGB(image,idim):\n",
    "    '''\n",
    "    image is a single lab image of shape (None,None,3)\n",
    "    '''\n",
    "    z = np.zeros(image.shape)\n",
    "    if idim != 0 :\n",
    "        z[:,:,0]=80 ## I need brightness to plot the image along 1st or 2nd axis\n",
    "    z[:,:,idim] = image[:,:,idim]\n",
    "    z = lab2rgb(z)\n",
    "    return(z)"
   ]
  },
  {
   "cell_type": "markdown",
   "metadata": {},
   "source": [
    "### 2. Set the paths for *train* and *test* data"
   ]
  },
  {
   "cell_type": "code",
   "execution_count": 25,
   "metadata": {},
   "outputs": [],
   "source": [
    "train_images_path = os.path.join(\"/media/andretri7/WD/Datasets/flower_images/flower_images\")"
   ]
  },
  {
   "cell_type": "markdown",
   "metadata": {},
   "source": [
    "### 3. Select n=19 images"
   ]
  },
  {
   "cell_type": "code",
   "execution_count": 26,
   "metadata": {},
   "outputs": [],
   "source": [
    "train_images = np.array(os.listdir(train_images_path))\n",
    "# train_images = train_images[np.random.choice(train_images.shape[0], size=100, replace=False)]"
   ]
  },
  {
   "cell_type": "markdown",
   "metadata": {},
   "source": [
    "### 4. Create the Palette\n",
    "* ####  For Every Image:\n",
    "  * #### 4.1. Convert it to LAB Color Space\n",
    "  * #### 4.2. Extract the Colors\n",
    "  * #### 4.3. Perform the Color Space Segmentation using Mini-Batch k-Means @ 32 Colors"
   ]
  },
  {
   "cell_type": "code",
   "execution_count": 27,
   "metadata": {},
   "outputs": [
    {
     "data": {
      "application/vnd.jupyter.widget-view+json": {
       "model_id": "7a67f552d6134ae8bb7492c541d5b081",
       "version_major": 2,
       "version_minor": 0
      },
      "text/plain": [
       "HBox(children=(IntProgress(value=0, max=19), HTML(value='')))"
      ]
     },
     "metadata": {},
     "output_type": "display_data"
    },
    {
     "name": "stdout",
     "output_type": "stream",
     "text": [
      "\n"
     ]
    }
   ],
   "source": [
    "colorPalette = MiniBatchKMeans(n_clusters=32, random_state=100, compute_labels=True)\n",
    "\n",
    "for img in tqdm_notebook(train_images):\n",
    "    # 1: Read Image\n",
    "    imgRGB = cv2.imread(os.path.join(train_images_path, img))\n",
    "    imgRGB = cv2.cvtColor(imgRGB, cv2.COLOR_BGR2RGB)\n",
    "    # 2: Normalize Values from [0, 255] to [0, 1]\n",
    "    imgRGB = imgRGB/255\n",
    "    # 3: Convert Image from RGB to LAB\n",
    "    imgLAB = rgb2lab(imgRGB)\n",
    "    # 4: Get (a, b) Coordinates from Image and Append to Color Palette\n",
    "    imgLAB_colors = np.vstack(imgLAB[:, :, 1:3])\n",
    "    colorPalette.partial_fit(imgLAB_colors)"
   ]
  },
  {
   "cell_type": "markdown",
   "metadata": {},
   "source": [
    "# CHECKPOINT\n",
    "* ### Save the Color Palette and the Training Image Data for the following notebooks"
   ]
  },
  {
   "cell_type": "code",
   "execution_count": 28,
   "metadata": {},
   "outputs": [],
   "source": [
    "if not os.path.exists(os.path.join('.', 'res_all')):\n",
    "    os.makedirs(os.path.join('.', 'res_all'))\n",
    "    \n",
    "save_path = os.path.join('.', 'res_all')"
   ]
  },
  {
   "cell_type": "code",
   "execution_count": 29,
   "metadata": {},
   "outputs": [
    {
     "data": {
      "text/plain": [
       "['./res_all/trainImages.joblib']"
      ]
     },
     "execution_count": 29,
     "metadata": {},
     "output_type": "execute_result"
    }
   ],
   "source": [
    "joblib.dump(colorPalette, os.path.join(save_path,'colorPalette.joblib'))\n",
    "joblib.dump(train_images, os.path.join(save_path,'trainImages.joblib'))"
   ]
  }
 ],
 "metadata": {
  "kernelspec": {
   "display_name": "Python 3",
   "language": "python",
   "name": "python3"
  },
  "language_info": {
   "codemirror_mode": {
    "name": "ipython",
    "version": 3
   },
   "file_extension": ".py",
   "mimetype": "text/x-python",
   "name": "python",
   "nbconvert_exporter": "python",
   "pygments_lexer": "ipython3",
   "version": "3.6.7"
  },
  "varInspector": {
   "cols": {
    "lenName": 16,
    "lenType": 16,
    "lenVar": 40
   },
   "kernels_config": {
    "python": {
     "delete_cmd_postfix": "",
     "delete_cmd_prefix": "del ",
     "library": "var_list.py",
     "varRefreshCmd": "print(var_dic_list())"
    },
    "r": {
     "delete_cmd_postfix": ") ",
     "delete_cmd_prefix": "rm(",
     "library": "var_list.r",
     "varRefreshCmd": "cat(var_dic_list()) "
    }
   },
   "types_to_exclude": [
    "module",
    "function",
    "builtin_function_or_method",
    "instance",
    "_Feature"
   ],
   "window_display": false
  }
 },
 "nbformat": 4,
 "nbformat_minor": 2
}
